{
 "cells": [
  {
   "cell_type": "code",
   "execution_count": 2,
   "id": "6c65c9ce-aa60-48b7-95af-0c69fd4f76ba",
   "metadata": {},
   "outputs": [
    {
     "name": "stdout",
     "output_type": "stream",
     "text": [
      "Number of users: 943\n",
      "Number of training rates: 90570\n",
      "Number of test rates: 9430\n"
     ]
    }
   ],
   "source": [
    "from __future__ import print_function\n",
    "import numpy as np\n",
    "import pandas as pd\n",
    "\n",
    "# Reading user file:\n",
    "u_cols = ['user_id', 'age', 'sex', 'occupation', 'zip_code']\n",
    "users = pd.read_csv('ml-100k/u.user', sep='|', names=u_cols)\n",
    "n_users = users.shape[0]\n",
    "print('Number of users:', n_users)\n",
    "\n",
    "# Reading ratings file:\n",
    "r_cols = ['user_id', 'movie_id', 'rating', 'unix_timestamp']\n",
    "ratings_base = pd.read_csv('ml-100k/ua.base', sep='\\t', names=r_cols)\n",
    "ratings_test = pd.read_csv('ml-100k/ua.test', sep='\\t', names=r_cols)\n",
    "\n",
    "rate_train = ratings_base.values\n",
    "rate_test = ratings_test.values\n",
    "\n",
    "print('Number of training rates:', rate_train.shape[0])\n",
    "print('Number of test rates:', rate_test.shape[0])\n"
   ]
  },
  {
   "cell_type": "code",
   "execution_count": 3,
   "id": "c6379536-3e0a-4719-8196-7a453465f3e4",
   "metadata": {},
   "outputs": [
    {
     "name": "stdout",
     "output_type": "stream",
     "text": [
      "Number of items: 1682\n"
     ]
    }
   ],
   "source": [
    "# Reading items file:\n",
    "i_cols = ['movie id', 'movie title', 'release date', 'video release date', 'IMDb URL', 'unknown', 'Action', 'Adventure', 'Animation', \"Children's\", 'Comedy', 'Crime', 'Documentary', 'Drama', 'Fantasy', 'Film-Noir', 'Horror', 'Musical', 'Mystery', 'Romance', 'Sci-Fi', 'Thriller', 'War', 'Western']\n",
    "\n",
    "# Specify the encoding\n",
    "items = pd.read_csv('ml-100k/u.item', sep='|', names=i_cols, encoding='ISO-8859-1')\n",
    "n_items = items.shape[0]\n",
    "print('Number of items:', n_items)\n"
   ]
  },
  {
   "cell_type": "code",
   "execution_count": 4,
   "id": "8ef4d301-6582-4d5a-9b6c-a08e325126f7",
   "metadata": {},
   "outputs": [
    {
     "name": "stdout",
     "output_type": "stream",
     "text": [
      "[[        1         1         5 874965758]\n",
      " [        1         2         3 876893171]\n",
      " [        1         3         4 878542960]\n",
      " [        1         4         3 876893119]]\n"
     ]
    }
   ],
   "source": [
    "print(rate_train[:4, :])"
   ]
  },
  {
   "cell_type": "code",
   "execution_count": 7,
   "id": "16894300-7074-4dcb-ba2e-10ca87972983",
   "metadata": {},
   "outputs": [],
   "source": [
    "X0 = items.values\n",
    "X_train_counts = X0[:, -19:]\n",
    "\n",
    "# Importing TfidfTransformer from sklearn\n",
    "from sklearn.feature_extraction.text import TfidfTransformer\n",
    "\n",
    "# Creating an instance of TfidfTransformer\n",
    "transformer = TfidfTransformer(smooth_idf=True, norm='l2')\n",
    "\n",
    "# Transforming the data\n",
    "X = transformer.fit_transform(X_train_counts.tolist()).toarray()\n"
   ]
  },
  {
   "cell_type": "code",
   "execution_count": 8,
   "id": "8b774ab9-d80a-4d9e-a8ed-d2cea65e3310",
   "metadata": {},
   "outputs": [],
   "source": [
    "def get_items_rated_by_user(rate_matrix, user_id):\n",
    "    \"\"\"\n",
    "    return (item_ids, scores)\n",
    "    \"\"\"\n",
    "    y = rate_matrix[:,0] # all users\n",
    "    # item indices rated by user_id\n",
    "    # we need to +1 to user_id since in the rate_matrix, id starts from 1 \n",
    "    # but id in python starts from 0\n",
    "    ids = np.where(y == user_id +1)[0] \n",
    "    item_ids = rate_matrix[ids, 1] - 1 # index starts from 0 \n",
    "    scores = rate_matrix[ids, 2]\n",
    "    return (item_ids, scores)"
   ]
  },
  {
   "cell_type": "code",
   "execution_count": 9,
   "id": "d5dc299c-af3a-4f31-a8bd-f1a5b634c428",
   "metadata": {},
   "outputs": [],
   "source": [
    "from sklearn.linear_model import Ridge\n",
    "from sklearn import linear_model\n",
    "\n",
    "d = X.shape[1] # data dimension\n",
    "W = np.zeros((d, n_users))\n",
    "b = np.zeros(n_users)\n",
    "\n",
    "for n in range(n_users):    \n",
    "    ids, scores = get_items_rated_by_user(rate_train, n)\n",
    "    model = Ridge(alpha=0.01, fit_intercept  = True)\n",
    "    Xhat = X[ids, :]\n",
    "    model.fit(Xhat, scores) \n",
    "    W[:, n] = model.coef_\n",
    "    b[n] = model.intercept_"
   ]
  },
  {
   "cell_type": "code",
   "execution_count": 10,
   "id": "b97b681d-2093-4f5c-88ed-34a4a12ab91a",
   "metadata": {},
   "outputs": [],
   "source": [
    "# predicted scores\n",
    "Yhat = X.dot(W) + b"
   ]
  },
  {
   "cell_type": "code",
   "execution_count": 11,
   "id": "5ac61a18-4b4d-4f80-9cdc-d7668514573c",
   "metadata": {},
   "outputs": [
    {
     "name": "stdout",
     "output_type": "stream",
     "text": [
      "Rated movies ids : [ 37 109 110 226 424 557 722 724 731 739]\n",
      "True ratings     : [3 3 4 3 4 3 5 3 3 4]\n",
      "Predicted ratings: [2.65 3.9  3.21 3.28 2.11 2.05 2.41 2.11 3.21 3.34]\n"
     ]
    }
   ],
   "source": [
    "n = 100\n",
    "np.set_printoptions(precision=2) # 2 digits after . \n",
    "ids, scores = get_items_rated_by_user(rate_test, 10)\n",
    "Yhat[n, ids]\n",
    "print('Rated movies ids :', ids )\n",
    "print('True ratings     :', scores)\n",
    "print('Predicted ratings:', Yhat[ids, n])"
   ]
  },
  {
   "cell_type": "code",
   "execution_count": 13,
   "id": "8a206bf5-3f22-4f83-850f-3d95cb863fe8",
   "metadata": {},
   "outputs": [
    {
     "name": "stdout",
     "output_type": "stream",
     "text": [
      "RMSE for training: 0.91\n",
      "RMSE for test    : 1.27\n"
     ]
    }
   ],
   "source": [
    "def evaluate(Yhat, rates, W, b):\n",
    "    se = cnt = 0\n",
    "    for n in range(n_users):\n",
    "        ids, scores_truth = get_items_rated_by_user(rates, n)\n",
    "        scores_pred = Yhat[ids, n]\n",
    "        e = scores_truth - scores_pred\n",
    "        se += (e * e).sum(axis=0)\n",
    "        cnt += e.size\n",
    "    return np.sqrt(se / cnt)\n",
    "\n",
    "print('RMSE for training: %.2f' % evaluate(Yhat, rate_train, W, b))\n",
    "print('RMSE for test    : %.2f' % evaluate(Yhat, rate_test, W, b))"
   ]
  }
 ],
 "metadata": {
  "kernelspec": {
   "display_name": "Python 3 (ipykernel)",
   "language": "python",
   "name": "python3"
  },
  "language_info": {
   "codemirror_mode": {
    "name": "ipython",
    "version": 3
   },
   "file_extension": ".py",
   "mimetype": "text/x-python",
   "name": "python",
   "nbconvert_exporter": "python",
   "pygments_lexer": "ipython3",
   "version": "3.12.3"
  }
 },
 "nbformat": 4,
 "nbformat_minor": 5
}
